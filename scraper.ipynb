{
 "cells": [
  {
   "cell_type": "code",
   "execution_count": 5,
   "metadata": {},
   "outputs": [],
   "source": [
    "from selenium import webdriver\n",
    "from selenium.webdriver.common.by import By\n",
    "from selenium.webdriver.support.ui import WebDriverWait\n",
    "from selenium.webdriver.support import expected_conditions as EC\n",
    "from selenium.webdriver.common.keys import Keys\n",
    "\n",
    "from time import sleep\n",
    "import json"
   ]
  },
  {
   "cell_type": "code",
   "execution_count": 6,
   "metadata": {},
   "outputs": [],
   "source": [
    "# pip install selenium==4.9.1"
   ]
  },
  {
   "cell_type": "code",
   "execution_count": 7,
   "metadata": {},
   "outputs": [],
   "source": [
    "def inicializaDriver():\n",
    "    # Necessario para executar no colab\n",
    "    # !pip install selenium\n",
    "    # !wget https://dl.google.com/linux/direct/google-chrome-stable_current_amd64.deb\n",
    "    # !sudo apt install ./google-chrome-stable_current_amd64.deb\n",
    "\n",
    "    chrome_options = webdriver.ChromeOptions()\n",
    "    # chrome_options.add_argument('--headless') # Necessario para executar no colab\n",
    "    chrome_options.add_argument('--no-sandbox')\n",
    "    chrome_options.add_argument('--disable-dev-shm-usage')\n",
    "    driver = webdriver.Chrome(chrome_options=chrome_options)\n",
    "    \n",
    "    return driver\n",
    "\n",
    "def pesquisaPorBairro(driver, bairro):\n",
    "    # Vai para a página inicial\n",
    "    url = 'https://www.zapimoveis.com.br/'\n",
    "    driver.get(url)\n",
    "    sleep(3)\n",
    "    \n",
    "    driver.find_element(By.XPATH, \"//input[@placeholder='Digite o nome da rua, bairro ou cidade']\").send_keys(bairro)\n",
    "    sleep(3)\n",
    "    \n",
    "    select_list_bairro = driver.find_elements(By.CLASS_NAME, \"l-multiselect__input\")\n",
    "    bairro_correto = select_list_bairro[0]\n",
    "    bairro_correto.click()\n",
    "    sleep(1)\n",
    "    \n",
    "    driver.find_element(By.XPATH, \"//*[text()='Buscar']\").click()\n",
    "    sleep(3)\n",
    "    \n",
    "def coletaListaDeImoveisDaPagina(driver):\n",
    "    lista_de_imoveis = driver.find_elements(By.CSS_SELECTOR, 'a.result-card') # Procure elementos com a tag <a> e classe \"result-card\"\n",
    "\n",
    "    lista_imoveis_json = []\n",
    "\n",
    "    for imovel in lista_de_imoveis:\n",
    "        dados_imovel = imovel.find_element(By.CLASS_NAME, \"l-card__content\")\n",
    "        \n",
    "        rua = dados_imovel.find_element(By.CLASS_NAME, \"card__location\").find_element(By.CSS_SELECTOR, 'p').text\n",
    "        preco = dados_imovel.find_element(By.CLASS_NAME, \"listing-price\").text\n",
    "        area = dados_imovel.find_element(By.XPATH, \".//p[@itemprop='floorSize']\").text\n",
    "        descricao = dados_imovel.find_elements(By.CSS_SELECTOR, \"p.l-text\")[1].text\n",
    "        \n",
    "        imovel_json = {\"rua\": rua,\n",
    "                    \"preco\": preco,\n",
    "                    \"area\": area,\n",
    "                    \"descricao\": descricao}\n",
    "        \n",
    "        lista_imoveis_json.append(imovel_json)\n",
    "        \n",
    "    return lista_imoveis_json\n",
    "\n",
    "def escreveArquivoDadosCompilados(lista_imoveis_json):\n",
    "    # Criando o arquivo json com os dados obtidos\n",
    "\n",
    "    filename = 'imoveis.json'\n",
    "    dados_json = json.dumps(lista_imoveis_json, ensure_ascii=False).encode(\"utf-8\")\n",
    "    with open(filename, \"w\", encoding='utf8') as file:\n",
    "        json.dump(lista_imoveis_json, file, ensure_ascii=False)\n",
    "    sleep(1)\n",
    "    \n",
    "def scrollAteFinalPagina(driver):\n",
    "    for i in range(0,100):\n",
    "        body = driver.find_element(By.CSS_SELECTOR, 'body')\n",
    "        body.send_keys(Keys.PAGE_DOWN)\n",
    "        sleep(0.5)"
   ]
  },
  {
   "cell_type": "code",
   "execution_count": 8,
   "metadata": {},
   "outputs": [
    {
     "name": "stderr",
     "output_type": "stream",
     "text": [
      "C:\\Users\\woodg\\AppData\\Local\\Temp\\ipykernel_19512\\2854766598.py:11: DeprecationWarning: use options instead of chrome_options\n",
      "  driver = webdriver.Chrome(chrome_options=chrome_options)\n"
     ]
    }
   ],
   "source": [
    "driver = inicializaDriver()\n",
    "\n",
    "bairro = 'Pinheiros, São Paulo - SP'\n",
    "\n",
    "pesquisaPorBairro(driver, bairro)\n",
    "\n",
    "lista_imoveis_json = [] # irá guardar os dados dos imoveis de todas as páginas\n",
    "\n",
    "for page in range(1,4): # Páginas 1, 2 e 3\n",
    "    scrollAteFinalPagina(driver)\n",
    "    \n",
    "    lista_imoveis_pagina = coletaListaDeImoveisDaPagina(driver)\n",
    "    lista_imoveis_json.extend(lista_imoveis_pagina)\n",
    "    \n",
    "    if(page == 1):\n",
    "        urlSemPagina = driver.current_url[:-1] # [:-1] remove o ultimo caractere da url\n",
    "        \n",
    "    urlProximaPagina = urlSemPagina+str(page+1) # ...&pagina=3\n",
    "    driver.get(urlSemPagina+str(page+1)) # Acessa a próxima página\n",
    "\n",
    "driver.quit()\n"
   ]
  },
  {
   "cell_type": "code",
   "execution_count": 9,
   "metadata": {},
   "outputs": [
    {
     "name": "stdout",
     "output_type": "stream",
     "text": [
      "^C\n",
      "Requirement already satisfied: selenium==4.9.1 in c:\\users\\woodg\\anaconda3.1\\envs\\gabriel\\lib\\site-packages (4.9.1)\n",
      "Requirement already satisfied: urllib3[socks]<3,>=1.26 in c:\\users\\woodg\\anaconda3.1\\envs\\gabriel\\lib\\site-packages (from selenium==4.9.1) (2.0.4)\n",
      "Requirement already satisfied: trio~=0.17 in c:\\users\\woodg\\anaconda3.1\\envs\\gabriel\\lib\\site-packages (from selenium==4.9.1) (0.22.2)\n",
      "Requirement already satisfied: trio-websocket~=0.9 in c:\\users\\woodg\\anaconda3.1\\envs\\gabriel\\lib\\site-packages (from selenium==4.9.1) (0.10.3)\n",
      "Requirement already satisfied: certifi>=2021.10.8 in c:\\users\\woodg\\anaconda3.1\\envs\\gabriel\\lib\\site-packages (from selenium==4.9.1) (2023.7.22)\n",
      "Requirement already satisfied: attrs>=20.1.0 in c:\\users\\woodg\\anaconda3.1\\envs\\gabriel\\lib\\site-packages (from trio~=0.17->selenium==4.9.1) (23.1.0)\n",
      "Requirement already satisfied: sortedcontainers in c:\\users\\woodg\\anaconda3.1\\envs\\gabriel\\lib\\site-packages (from trio~=0.17->selenium==4.9.1) (2.4.0)\n",
      "Requirement already satisfied: idna in c:\\users\\woodg\\anaconda3.1\\envs\\gabriel\\lib\\site-packages (from trio~=0.17->selenium==4.9.1) (3.4)\n",
      "Requirement already satisfied: outcome in c:\\users\\woodg\\anaconda3.1\\envs\\gabriel\\lib\\site-packages (from trio~=0.17->selenium==4.9.1) (1.2.0)\n",
      "Requirement already satisfied: sniffio in c:\\users\\woodg\\anaconda3.1\\envs\\gabriel\\lib\\site-packages (from trio~=0.17->selenium==4.9.1) (1.3.0)\n",
      "Requirement already satisfied: cffi>=1.14 in c:\\users\\woodg\\anaconda3.1\\envs\\gabriel\\lib\\site-packages (from trio~=0.17->selenium==4.9.1) (1.15.1)\n",
      "Requirement already satisfied: exceptiongroup>=1.0.0rc9 in c:\\users\\woodg\\anaconda3.1\\envs\\gabriel\\lib\\site-packages (from trio~=0.17->selenium==4.9.1) (1.1.2)\n",
      "Requirement already satisfied: wsproto>=0.14 in c:\\users\\woodg\\anaconda3.1\\envs\\gabriel\\lib\\site-packages (from trio-websocket~=0.9->selenium==4.9.1) (1.2.0)\n",
      "Requirement already satisfied: pysocks!=1.5.7,<2.0,>=1.5.6 in c:\\users\\woodg\\anaconda3.1\\envs\\gabriel\\lib\\site-packages (from urllib3[socks]<3,>=1.26->selenium==4.9.1) (1.7.1)\n",
      "Requirement already satisfied: pycparser in c:\\users\\woodg\\anaconda3.1\\envs\\gabriel\\lib\\site-packages (from cffi>=1.14->trio~=0.17->selenium==4.9.1) (2.21)\n",
      "Requirement already satisfied: h11<1,>=0.9.0 in c:\\users\\woodg\\anaconda3.1\\envs\\gabriel\\lib\\site-packages (from wsproto>=0.14->trio-websocket~=0.9->selenium==4.9.1) (0.14.0)\n"
     ]
    }
   ],
   "source": [
    "!pip uninstall selenium \n",
    "!pip install selenium==4.9.1\n"
   ]
  },
  {
   "cell_type": "code",
   "execution_count": null,
   "metadata": {},
   "outputs": [],
   "source": [
    "lista_imoveis_json\n"
   ]
  },
  {
   "cell_type": "code",
   "execution_count": null,
   "metadata": {},
   "outputs": [],
   "source": [
    "# Tratar os dados\n",
    "import re\n",
    "\n",
    "# Limpando os imoveis que não possuem preço ou m²\n",
    "for imovel in lista_imoveis_json:\n",
    "    if imovel['preco'] == \"\" or imovel['area'] == \"\":\n",
    "        index_to_delete = lista_imoveis_json.index(imovel)\n",
    "        del lista_imoveis_json[index_to_delete]\n",
    "\n",
    "# Deixando somente inteiros nos campos \"area\" e \"preco\"\n",
    "inteiro_incluindo_pontos = r'[\\d,.]+'\n",
    "\n",
    "for imovel in lista_imoveis_json:\n",
    "    \n",
    "    index = lista_imoveis_json.index(imovel)\n",
    "    \n",
    "    # campo \"area\"\n",
    "    lista_imoveis_json[index]['area'] = re.search(r'\\d+', imovel['area']).group() # Pega só o primeiro número, sem pontos, sem vírgulas e sem espaços\n",
    "    \n",
    "    # campo \"preco\"\n",
    "    try:\n",
    "        lista_imoveis_json[index]['preco'] = re.findall(inteiro_incluindo_pontos, imovel['preco'])[0]\n",
    "    except:\n",
    "        del lista_imoveis_json[index]\n",
    "    \n",
    "    # removendo pontos do \"preco\"\n",
    "    lista_imoveis_json[index]['preco'] = lista_imoveis_json[index]['preco'].replace(\".\", \"\")\n",
    "    \n",
    "print(lista_imoveis_json)\n",
    "\n",
    "escreveArquivoDadosCompilados(lista_imoveis_json)"
   ]
  }
 ],
 "metadata": {
  "kernelspec": {
   "display_name": "Python 3",
   "language": "python",
   "name": "python3"
  },
  "language_info": {
   "codemirror_mode": {
    "name": "ipython",
    "version": 3
   },
   "file_extension": ".py",
   "mimetype": "text/x-python",
   "name": "python",
   "nbconvert_exporter": "python",
   "pygments_lexer": "ipython3",
   "version": "3.10.12"
  }
 },
 "nbformat": 4,
 "nbformat_minor": 4
}
